{
 "cells": [
  {
   "cell_type": "code",
   "execution_count": null,
   "id": "476bd40b",
   "metadata": {},
   "outputs": [
    {
     "name": "stdout",
     "output_type": "stream",
     "text": [
      "Renamed: 2022ENGG_CAP1_CutOff.pdf -> project_1.pdf\n",
      "Renamed: 2023ENGG_CAP1_CutOff.pdf -> project_2.pdf\n",
      "Renamed: 2024ENGG_CAP1_CutOff.pdf -> project_3.pdf\n",
      "Renamed: 25173056019052004.pdf -> project_4.pdf\n",
      "Renamed: Assignment DRF (Enlog).pdf -> project_5.pdf\n",
      "Renamed: Enlog Brochure 2025.pdf -> project_6.pdf\n",
      "Renamed: Himansu.pdf -> project_7.pdf\n",
      "Renamed: ticket_3007.pdf -> project_8.pdf\n"
     ]
    }
   ],
   "source": [
    "import os\n",
    "\n",
    "def bulk_rename_files(folder_path, prefix=\"file\"):\n",
    "    files = os.listdir(folder_path)\n",
    "    for i, filename in enumerate(files, start=1):\n",
    "        ext = os.path.splitext(filename)[1]  \n",
    "        new_name = f\"{prefix}_{i}{ext}\"\n",
    "        src = os.path.join(folder_path, filename)\n",
    "        dst = os.path.join(folder_path, new_name)\n",
    "        os.rename(src, dst)\n",
    "        print(f\"Renamed: {filename} -> {new_name}\")\n",
    "\n",
    "# Example usage\n",
    "folder = r\"C:\\Users\\Nihal\\Desktop\\NAIC\\Task_5\\test_files\"  \n",
    "bulk_rename_files(folder, prefix=\"project\")\n"
   ]
  },
  {
   "cell_type": "code",
   "execution_count": null,
   "id": "00e81d63",
   "metadata": {},
   "outputs": [
    {
     "name": "stdout",
     "output_type": "stream",
     "text": [
      "✅ Email sent to nsgopal017@gmail.com\n"
     ]
    }
   ],
   "source": [
    "import smtplib\n",
    "from email.mime.text import MIMEText\n",
    "from email.mime.multipart import MIMEMultipart\n",
    "\n",
    "def send_email(sender, password, receiver, subject, message):\n",
    "    msg = MIMEMultipart()\n",
    "    msg['From'] = sender\n",
    "    msg['To'] = receiver\n",
    "    msg['Subject'] = subject\n",
    "    \n",
    "    msg.attach(MIMEText(message, 'plain'))\n",
    "    \n",
    "    try:\n",
    "        with smtplib.SMTP('smtp.gmail.com', 587) as server:\n",
    "            server.starttls()\n",
    "            server.login(sender, password)\n",
    "            server.sendmail(sender, receiver, msg.as_string())\n",
    "        print(f\"Email sent to {receiver}\")\n",
    "    except Exception as e:\n",
    "        print(f\"Error: {e}\")\n",
    "\n",
    "# Example usage\n",
    "send_email(\"nihalsathawane2003@gmail.com\", \"########\",\n",
    "           \"nsgopal017@gmail.com\", \n",
    "           \"Test Automation\", \n",
    "           \"This is an automated email sent using Python.\")\n"
   ]
  },
  {
   "cell_type": "code",
   "execution_count": 8,
   "id": "489ebf97",
   "metadata": {},
   "outputs": [
    {
     "name": "stdout",
     "output_type": "stream",
     "text": [
      "✅ Report generated: report.txt\n"
     ]
    }
   ],
   "source": [
    "import pandas as pd\n",
    "\n",
    "def generate_report(csv_file, output_file=\"report.txt\"):\n",
    "    # Force encoding to avoid UnicodeDecodeError\n",
    "    df = pd.read_csv(csv_file, encoding=\"latin1\")\n",
    "    \n",
    "    with open(output_file, \"w\", encoding=\"utf-8\") as f:\n",
    "        f.write(\"===== Sales Report =====\\n\\n\")\n",
    "        f.write(f\"Total Records: {len(df)}\\n\")\n",
    "        f.write(f\"Total Sales: {df['SALES'].sum()}\\n\")\n",
    "        f.write(f\"Average Sale: {df['SALES'].mean()}\\n\")\n",
    "        f.write(f\"Max Sale: {df['SALES'].max()}\\n\")\n",
    "        f.write(f\"Min Sale: {df['SALES'].min()}\\n\")\n",
    "    \n",
    "    print(f\"✅ Report generated: {output_file}\")\n",
    "\n",
    "# Example usage\n",
    "generate_report(r\"C:\\Users\\Nihal\\Desktop\\NAIC\\Task_3\\sales_data_sample.csv\")\n"
   ]
  },
  {
   "cell_type": "code",
   "execution_count": null,
   "id": "fada3061",
   "metadata": {},
   "outputs": [],
   "source": []
  }
 ],
 "metadata": {
  "kernelspec": {
   "display_name": "Python 3",
   "language": "python",
   "name": "python3"
  },
  "language_info": {
   "codemirror_mode": {
    "name": "ipython",
    "version": 3
   },
   "file_extension": ".py",
   "mimetype": "text/x-python",
   "name": "python",
   "nbconvert_exporter": "python",
   "pygments_lexer": "ipython3",
   "version": "3.11.9"
  }
 },
 "nbformat": 4,
 "nbformat_minor": 5
}
